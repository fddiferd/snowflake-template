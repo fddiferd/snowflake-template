{
 "cells": [
  {
   "cell_type": "code",
   "execution_count": 1,
   "metadata": {},
   "outputs": [
    {
     "name": "stdout",
     "output_type": "stream",
     "text": [
      "Creating session from config file\n"
     ]
    },
    {
     "data": {
      "text/html": [
       "<div>\n",
       "<style scoped>\n",
       "    .dataframe tbody tr th:only-of-type {\n",
       "        vertical-align: middle;\n",
       "    }\n",
       "\n",
       "    .dataframe tbody tr th {\n",
       "        vertical-align: top;\n",
       "    }\n",
       "\n",
       "    .dataframe thead th {\n",
       "        text-align: right;\n",
       "    }\n",
       "</style>\n",
       "<table border=\"1\" class=\"dataframe\">\n",
       "  <thead>\n",
       "    <tr style=\"text-align: right;\">\n",
       "      <th></th>\n",
       "      <th>METRIC_TIME__DAY</th>\n",
       "      <th>GROSS_ADDS</th>\n",
       "    </tr>\n",
       "  </thead>\n",
       "  <tbody>\n",
       "    <tr>\n",
       "      <th>4</th>\n",
       "      <td>2024-07-13</td>\n",
       "      <td>62.0</td>\n",
       "    </tr>\n",
       "    <tr>\n",
       "      <th>6</th>\n",
       "      <td>2021-04-20</td>\n",
       "      <td>1.0</td>\n",
       "    </tr>\n",
       "    <tr>\n",
       "      <th>7</th>\n",
       "      <td>2021-11-18</td>\n",
       "      <td>77.0</td>\n",
       "    </tr>\n",
       "    <tr>\n",
       "      <th>8</th>\n",
       "      <td>2021-08-09</td>\n",
       "      <td>40.0</td>\n",
       "    </tr>\n",
       "    <tr>\n",
       "      <th>9</th>\n",
       "      <td>2021-03-25</td>\n",
       "      <td>96.0</td>\n",
       "    </tr>\n",
       "    <tr>\n",
       "      <th>...</th>\n",
       "      <td>...</td>\n",
       "      <td>...</td>\n",
       "    </tr>\n",
       "    <tr>\n",
       "      <th>146093</th>\n",
       "      <td>2024-04-04</td>\n",
       "      <td>285.0</td>\n",
       "    </tr>\n",
       "    <tr>\n",
       "      <th>146094</th>\n",
       "      <td>2023-08-24</td>\n",
       "      <td>10.0</td>\n",
       "    </tr>\n",
       "    <tr>\n",
       "      <th>146095</th>\n",
       "      <td>2021-07-30</td>\n",
       "      <td>4.0</td>\n",
       "    </tr>\n",
       "    <tr>\n",
       "      <th>146098</th>\n",
       "      <td>2023-05-21</td>\n",
       "      <td>38.0</td>\n",
       "    </tr>\n",
       "    <tr>\n",
       "      <th>146099</th>\n",
       "      <td>2023-11-13</td>\n",
       "      <td>1.0</td>\n",
       "    </tr>\n",
       "  </tbody>\n",
       "</table>\n",
       "<p>99238 rows × 2 columns</p>\n",
       "</div>"
      ],
      "text/plain": [
       "       METRIC_TIME__DAY  GROSS_ADDS\n",
       "4            2024-07-13        62.0\n",
       "6            2021-04-20         1.0\n",
       "7            2021-11-18        77.0\n",
       "8            2021-08-09        40.0\n",
       "9            2021-03-25        96.0\n",
       "...                 ...         ...\n",
       "146093       2024-04-04       285.0\n",
       "146094       2023-08-24        10.0\n",
       "146095       2021-07-30         4.0\n",
       "146098       2023-05-21        38.0\n",
       "146099       2023-11-13         1.0\n",
       "\n",
       "[99238 rows x 2 columns]"
      ]
     },
     "execution_count": 1,
     "metadata": {},
     "output_type": "execute_result"
    }
   ],
   "source": [
    "%load_ext autoreload\n",
    "%autoreload 2\n",
    "\n",
    "from pandas import DataFrame\n",
    "from snowflake.snowpark import Session\n",
    "from snowflake.snowpark.table import Table\n",
    "\n",
    "from utils import get_session\n",
    "\n",
    "session: Session = get_session.session()\n",
    "\n",
    "tbl: Table = session.table('dbt_production.staging.sq_hawk_dashboards')\n",
    "df: DataFrame = tbl.to_pandas()\n",
    "df[['METRIC_TIME__DAY', 'GROSS_ADDS']].dropna(subset=['GROSS_ADDS'])"
   ]
  },
  {
   "cell_type": "code",
   "execution_count": null,
   "metadata": {},
   "outputs": [],
   "source": []
  }
 ],
 "metadata": {
  "kernelspec": {
   "display_name": ".venv",
   "language": "python",
   "name": "python3"
  },
  "language_info": {
   "codemirror_mode": {
    "name": "ipython",
    "version": 3
   },
   "file_extension": ".py",
   "mimetype": "text/x-python",
   "name": "python",
   "nbconvert_exporter": "python",
   "pygments_lexer": "ipython3",
   "version": "3.11.0"
  }
 },
 "nbformat": 4,
 "nbformat_minor": 2
}
